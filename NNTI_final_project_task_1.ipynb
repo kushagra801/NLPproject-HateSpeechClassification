{
  "nbformat": 4,
  "nbformat_minor": 0,
  "metadata": {
    "accelerator": "GPU",
    "colab": {
      "name": "Copy of NNTI_final_project_task_1.ipynb",
      "provenance": [],
      "collapsed_sections": []
    },
    "kernelspec": {
      "display_name": "Python 3",
      "name": "python3"
    }
  },
  "cells": [
    {
      "cell_type": "markdown",
      "metadata": {
        "id": "_VZXi_KGi0UR"
      },
      "source": [
        "# Task 1: Word Embeddings (10 points)\n",
        "\n",
        "This notebook will guide you through all steps necessary to train a word2vec model (Detailed description in the PDF)."
      ]
    },
    {
      "cell_type": "markdown",
      "metadata": {
        "id": "48t-II1vkuau"
      },
      "source": [
        "## Imports\n",
        "\n",
        "This code block is reserved for your imports. \n",
        "\n",
        "You are free to use the following packages: \n",
        "\n",
        "(List of packages)"
      ]
    },
    {
      "cell_type": "code",
      "metadata": {
        "id": "4kh6nh84-AOL"
      },
      "source": [
        "# Imports\n",
        "import pandas as pd\n",
        "import torch\n",
        "import torch.autograd as autograd\n",
        "import torch.nn as nn\n",
        "import torch.nn.functional as F\n",
        "import torch.optim as optim\n",
        "import string\n",
        "import re\n",
        "import numpy as np\n",
        "import math\n",
        "import random\n",
        "import regex"
      ],
      "execution_count": 1,
      "outputs": []
    },
    {
      "cell_type": "markdown",
      "metadata": {
        "id": "NWmk3hVllEcU"
      },
      "source": [
        "# 1.1 Get the data (0.5 points)\n",
        "\n",
        "The Hindi portion HASOC corpus from [github.io](https://hasocfire.github.io/hasoc/2019/dataset.html) is already available in the repo, at data/hindi_hatespeech.tsv . Load it into a data structure of your choice. Then, split off a small part of the corpus as a development set (~100 data points).\n",
        "\n",
        "If you are using Colab the first two lines will let you upload folders or files from your local file system."
      ]
    },
    {
      "cell_type": "code",
      "metadata": {
        "colab": {
          "base_uri": "https://localhost:8080/",
          "height": 197
        },
        "id": "XtI7DJ-0-AOP",
        "outputId": "091ab3c0-03fa-4736-c619-69bbe3f68f9a"
      },
      "source": [
        "#TODO: implement!\n",
        "url = 'https://raw.githubusercontent.com/alch00001/NNTI-WS2021-NLP-Project/main/data/hindi_hatespeech.tsv'\n",
        "data = pd.read_csv(url, sep='\\t')\n",
        "\n",
        "#Development set\n",
        "development = data.loc[0:99].copy()\n",
        "development.astype(\"string\")\n",
        "development.head()"
      ],
      "execution_count": 2,
      "outputs": [
        {
          "output_type": "execute_result",
          "data": {
            "text/html": [
              "<div>\n",
              "<style scoped>\n",
              "    .dataframe tbody tr th:only-of-type {\n",
              "        vertical-align: middle;\n",
              "    }\n",
              "\n",
              "    .dataframe tbody tr th {\n",
              "        vertical-align: top;\n",
              "    }\n",
              "\n",
              "    .dataframe thead th {\n",
              "        text-align: right;\n",
              "    }\n",
              "</style>\n",
              "<table border=\"1\" class=\"dataframe\">\n",
              "  <thead>\n",
              "    <tr style=\"text-align: right;\">\n",
              "      <th></th>\n",
              "      <th>text_id</th>\n",
              "      <th>text</th>\n",
              "      <th>task_1</th>\n",
              "      <th>task_2</th>\n",
              "      <th>task_3</th>\n",
              "    </tr>\n",
              "  </thead>\n",
              "  <tbody>\n",
              "    <tr>\n",
              "      <th>0</th>\n",
              "      <td>hasoc_hi_5556</td>\n",
              "      <td>बांग्लादेश की शानदार वापसी, भारत को 314 रन पर ...</td>\n",
              "      <td>NOT</td>\n",
              "      <td>NONE</td>\n",
              "      <td>NONE</td>\n",
              "    </tr>\n",
              "    <tr>\n",
              "      <th>1</th>\n",
              "      <td>hasoc_hi_5648</td>\n",
              "      <td>सब रंडी नाच देखने मे व्यस्त जैसे ही कोई #शांती...</td>\n",
              "      <td>HOF</td>\n",
              "      <td>PRFN</td>\n",
              "      <td>UNT</td>\n",
              "    </tr>\n",
              "    <tr>\n",
              "      <th>2</th>\n",
              "      <td>hasoc_hi_164</td>\n",
              "      <td>तुम जैसे हरामियों के लिए बस जूतों की कमी है शु...</td>\n",
              "      <td>HOF</td>\n",
              "      <td>PRFN</td>\n",
              "      <td>TIN</td>\n",
              "    </tr>\n",
              "    <tr>\n",
              "      <th>3</th>\n",
              "      <td>hasoc_hi_3530</td>\n",
              "      <td>बीजेपी MLA आकाश विजयवर्गीय जेल से रिहा, जमानत ...</td>\n",
              "      <td>NOT</td>\n",
              "      <td>NONE</td>\n",
              "      <td>NONE</td>\n",
              "    </tr>\n",
              "    <tr>\n",
              "      <th>4</th>\n",
              "      <td>hasoc_hi_5206</td>\n",
              "      <td>चमकी बुखार: विधानसभा परिसर में आरजेडी का प्रदर...</td>\n",
              "      <td>NOT</td>\n",
              "      <td>NONE</td>\n",
              "      <td>NONE</td>\n",
              "    </tr>\n",
              "  </tbody>\n",
              "</table>\n",
              "</div>"
            ],
            "text/plain": [
              "         text_id  ... task_3\n",
              "0  hasoc_hi_5556  ...   NONE\n",
              "1  hasoc_hi_5648  ...    UNT\n",
              "2   hasoc_hi_164  ...    TIN\n",
              "3  hasoc_hi_3530  ...   NONE\n",
              "4  hasoc_hi_5206  ...   NONE\n",
              "\n",
              "[5 rows x 5 columns]"
            ]
          },
          "metadata": {
            "tags": []
          },
          "execution_count": 2
        }
      ]
    },
    {
      "cell_type": "code",
      "metadata": {
        "id": "MdbLT-c1JH7c",
        "colab": {
          "base_uri": "https://localhost:8080/"
        },
        "outputId": "e8a67c73-f717-459b-bdc9-49e4f2c55749"
      },
      "source": [
        "hate = 0\n",
        "no_hate = 0\n",
        "for i in range(len(development['task_1'])):\n",
        "  if development['task_1'][i] == 'HOF':\n",
        "    hate += 1\n",
        "  else:\n",
        "    no_hate += 1\n",
        "print(hate, no_hate)\n"
      ],
      "execution_count": 3,
      "outputs": [
        {
          "output_type": "stream",
          "text": [
            "22 78\n"
          ],
          "name": "stdout"
        }
      ]
    },
    {
      "cell_type": "markdown",
      "metadata": {
        "id": "D-mSJ8nUlupB"
      },
      "source": [
        "## 1.2 Data preparation (0.5 + 0.5 points)\n",
        "\n",
        "* Prepare the data by removing everything that does not contain information. \n",
        "User names (starting with '@') and punctuation symbols clearly do not convey information, but we also want to get rid of so-called [stopwords](https://en.wikipedia.org/wiki/Stop_word), i. e. words that have little to no semantic content (and, but, yes, the...). Hindi stopwords can be found [here](https://github.com/stopwords-iso/stopwords-hi/blob/master/stopwords-hi.txt) Then, standardize the spelling by lowercasing all words.\n",
        "Do this for the development section of the corpus for now.\n",
        "\n",
        "* What about hashtags (starting with '#') and emojis? Should they be removed too? Justify your answer in the report, and explain how you accounted for this in your implementation."
      ]
    },
    {
      "cell_type": "code",
      "metadata": {
        "id": "CHcNeyKi-AOQ"
      },
      "source": [
        "\n",
        "development['text'] = development['text'].apply(lambda x:' '.join(x.lower() for x in x.split()))\n",
        "development['text'] = development['text'].apply(lambda x: regex.sub(r'(#[^\\s]*)*', '',x))     \n",
        "development['text'] = development['text'].apply(lambda x: regex.sub(r'(@[\\w]*)*[\\d~\\|\\p{Punct}*]*(http[^\\s]*)*', '',x)) \n",
        "development['text'] = development['text'].apply(lambda x: regex.sub(r'<[^<]+?>','',x)) #remove html \n",
        "development['text'] = development['text'].apply(lambda x: regex.sub(r'href=','',x)) \n",
        "development['text'] = development['text'].apply(lambda x: x.lower())                                                          #make lower case\n",
        "#import and remove stopwords\n",
        "stopurl = 'https://raw.githubusercontent.com/stopwords-iso/stopwords-hi/master/stopwords-hi.txt'\n",
        "stopwords = pd.read_csv(stopurl, sep='\\t', header=None)\n",
        "development['text'] = development['text'].apply(lambda x: \" \".join(x for x in x.split() if x not in stopwords[:][0].tolist()))\n",
        "#remove emojis, this script was taken from github\n",
        "def remove_emoji(text):\n",
        "    emoji_pattern = re.compile(\"[\"\n",
        "                           u\"\\U0001F600-\\U0001F64F\"  # emoticons\n",
        "                           u\"\\U0001F300-\\U0001F5FF\"  # symbols & pictographs\n",
        "                           u\"\\U0001F680-\\U0001F6FF\"  # transport & map symbols\n",
        "                           u\"\\U0001F1E0-\\U0001F1FF\"  # flags \n",
        "                           u\"\\U00002702-\\U000027B0\"\n",
        "                           u\"\\U000024C2-\\U0001F251\"\n",
        "                           \"]+\", flags=re.UNICODE)\n",
        "    return emoji_pattern.sub(r'', text)\n",
        "development['text'] = development['text'].apply(lambda x: remove_emoji(x))"
      ],
      "execution_count": 4,
      "outputs": []
    },
    {
      "cell_type": "code",
      "metadata": {
        "id": "Ls0aa7V1iBUy",
        "colab": {
          "base_uri": "https://localhost:8080/"
        },
        "outputId": "0ccea110-b72c-4e87-c3b6-1871049b93c0"
      },
      "source": [
        "print(development[\"text\"].head())"
      ],
      "execution_count": 5,
      "outputs": [
        {
          "output_type": "stream",
          "text": [
            "0                 बांग्लादेश शानदार वापसी भारत रन रोका\n",
            "1          सब रंडी नाच देखने व्यस्त होगा सब शुरू देंगे\n",
            "2    तुम हरामियों बस जूतों कमी शुक्र तुम्हारी लिंचि...\n",
            "3    बीजेपी mla आकाश विजयवर्गीय जेल रिहा जमानत मिलन...\n",
            "4    चमकी बुखार विधानसभा परिसर आरजेडी प्रदर्शन तेजस...\n",
            "Name: text, dtype: object\n"
          ],
          "name": "stdout"
        }
      ]
    },
    {
      "cell_type": "markdown",
      "metadata": {
        "id": "Je09nozLmmMm"
      },
      "source": [
        "## 1.3 Build the vocabulary (0.5 + 0.5 points)\n",
        "\n",
        "The input to the first layer of word2vec is an one-hot encoding of the current word. The output od the model is then compared to a numeric class label of the words within the size of the skip-gram window. Now\n",
        "\n",
        "* Compile a list of all words in the development section of your corpus and save it in a variable ```V```."
      ]
    },
    {
      "cell_type": "code",
      "metadata": {
        "id": "VpoGmTKx-AOQ",
        "colab": {
          "base_uri": "https://localhost:8080/"
        },
        "outputId": "dbf8ec3a-cf38-4846-d564-32d4cb907bf3"
      },
      "source": [
        "#TODO: implement!\n",
        "#this is only unique words\n",
        "V = list(set(development['text'].str.split(' ').sum()))\n",
        "if len(V[0]) == 0: #resolve an issue with emptry string appearing in vocab\n",
        "  V.pop(0)\n",
        "corpus = ' '.join([i for i in development['text']]).split()\n",
        "#all words given assigned a unique value - this line doesn't work\n",
        "#unique_val = list(pd.factorize(corpus))\n",
        "word2idx = {w: idx for (idx, w) in enumerate(V)}\n",
        "idx2word = {idx: w for (idx, w) in enumerate(V)}\n",
        "print(len(V))\n",
        "print(len(corpus))"
      ],
      "execution_count": 6,
      "outputs": [
        {
          "output_type": "stream",
          "text": [
            "1110\n",
            "1537\n",
            "['बोलेंगे', 'बहन', 'व्यस्तता', 'नहाने', 'साला', 'hsp', 'उलझन', 'जुनून', 'श्रद्धांजलि', 'समय']\n"
          ],
          "name": "stdout"
        }
      ]
    },
    {
      "cell_type": "markdown",
      "metadata": {
        "id": "WiaVglVNoENY"
      },
      "source": [
        "* Then, write a function ```word_to_one_hot``` that returns a one-hot encoding of an arbitrary word in the vocabulary. The size of the one-hot encoding should be ```len(v)```."
      ]
    },
    {
      "cell_type": "code",
      "metadata": {
        "id": "yqPNw6IT-AOQ",
        "colab": {
          "base_uri": "https://localhost:8080/"
        },
        "outputId": "4358dfef-c483-4296-802b-3b2621c7fa76"
      },
      "source": [
        "#TODO: implement!\n",
        "\n",
        "def word_to_one_hot(word):\n",
        "  one_hot = [0 if word != x else 1 for x in V]\n",
        "  return one_hot\n",
        "\n",
        "X = word_to_one_hot(V[1])\n",
        "len(X)\n",
        "        "
      ],
      "execution_count": 7,
      "outputs": [
        {
          "output_type": "execute_result",
          "data": {
            "text/plain": [
              "1110"
            ]
          },
          "metadata": {
            "tags": []
          },
          "execution_count": 7
        }
      ]
    },
    {
      "cell_type": "markdown",
      "metadata": {
        "id": "gKD8zBlxVclh"
      },
      "source": [
        "## 1.4 Subsampling (0.5 points)\n",
        "\n",
        "The probability to keep a word in a context is given by:\n",
        "\n",
        "$P_{keep}(w_i) = \\Big(\\sqrt{\\frac{z(w_i)}{0.001}}+1\\Big) \\cdot \\frac{0.001}{z(w_i)}$\n",
        "\n",
        "Where $z(w_i)$ is the relative frequency of the word $w_i$ in the corpus. Now,\n",
        "* Calculate word frequencies\n",
        "* Define a function ```sampling_prob``` that takes a word (string) as input and returns the probabiliy to **keep** the word in a context."
      ]
    },
    {
      "cell_type": "code",
      "metadata": {
        "id": "Mj4sDOVMMr0b",
        "colab": {
          "base_uri": "https://localhost:8080/"
        },
        "outputId": "19706cb1-dff4-4fdb-a1bd-9f4c6e902e55"
      },
      "source": [
        "#TODO: implement!\n",
        "def word_frequency(word):\n",
        "  freq = 0\n",
        "  for x in corpus:\n",
        "    if x == word:\n",
        "      freq += 1\n",
        "  return freq\n",
        "\n",
        "def sampling_prob(word):\n",
        "  relative_frq = word_frequency(word)/len(V)\n",
        "  if relative_frq==0:          #if word is not present in the corpus\n",
        "    return 0\n",
        "  else:\n",
        "    p_keep = (np.sqrt(relative_frq/0.000001)+1)*(0.000001/relative_frq)\n",
        "    return p_keep\n",
        "\n",
        "sampling_prob('भारत')"
      ],
      "execution_count": 8,
      "outputs": [
        {
          "output_type": "execute_result",
          "data": {
            "text/plain": [
              "0.015121664425751339"
            ]
          },
          "metadata": {
            "tags": []
          },
          "execution_count": 8
        }
      ]
    },
    {
      "cell_type": "markdown",
      "metadata": {
        "id": "kxV1P90zplxu"
      },
      "source": [
        "# 1.5 Skip-Grams (1 point)\n",
        "\n",
        "Now that you have the vocabulary and one-hot encodings at hand, you can start to do the actual work. The skip gram model requires training data of the shape ```(current_word, context)```, with ```context``` being the words before and/or after ```current_word``` within ```window_size```. \n",
        "\n",
        "* Have closer look on the original paper. If you feel to understand how skip-gram works, implement a function ```get_target_context``` that takes a sentence as input and [yield](https://docs.python.org/3.9/reference/simple_stmts.html#the-yield-statement)s a ```(current_word, context)```.\n",
        "\n",
        "* Use your ```sampling_prob``` function to drop words from contexts as you sample them. "
      ]
    },
    {
      "cell_type": "code",
      "metadata": {
        "id": "r8CCTpVy-AOR"
      },
      "source": [
        "#TODO: implement!\n",
        "window_size = 5\n",
        "\n",
        "def get_target_context(sentence):\n",
        "  words = sentence.split()\n",
        "  training_data = []\n",
        "  for word in words:\n",
        "   # print(\"Before subsampling the size of words is :\", len(words))\n",
        "    if random.random() < sampling_prob(word): \n",
        "      words.remove(word)\n",
        "  #print(\"after subsampling the size of words is :\", len(words))\n",
        "  for word in words:\n",
        "    #context = []\n",
        "    position = words.index(word) \n",
        "    for i in range(-window_size, window_size+1):\n",
        "      if position+i<0 or position+i>=len(words) or i==0:\n",
        "        continue\n",
        "      #print(context)\n",
        "      training_data.append([word, words[position+i]])\n",
        "  #print(\"Final size of words is :\", len(words))\n",
        "  yield training_data\n"
      ],
      "execution_count": 9,
      "outputs": []
    },
    {
      "cell_type": "markdown",
      "metadata": {
        "id": "gfEFgtkmuDjL"
      },
      "source": [
        "# 1.6 Hyperparameters (0.5 points)\n",
        "\n",
        "According to the word2vec paper, what would be a good choice for the following hyperparameters? \n",
        "\n",
        "* Embedding dimension\n",
        "* Window size\n",
        "\n",
        "Initialize them in a dictionary or as independent variables in the code block below. "
      ]
    },
    {
      "cell_type": "code",
      "metadata": {
        "id": "d7xSKuFJcYoD"
      },
      "source": [
        "# Set hyperparameters\n",
        "window_size = 5\n",
        "embedding_size = 300 \n",
        "vocab_size = len(V)\n",
        "batch_size = 10\n",
        "learning_rate = 0.001\n",
        "epochs = 20\n",
        "device = torch.device('cuda' if torch.cuda.is_available() else 'cpu')"
      ],
      "execution_count": 10,
      "outputs": []
    },
    {
      "cell_type": "markdown",
      "metadata": {
        "id": "xiM2zq-YunPx"
      },
      "source": [
        "# 1.7 Pytorch Module (0.5 + 0.5 + 0.5 points)\n",
        "\n",
        "Pytorch provides a wrapper for your fancy and super-complex models: [torch.nn.Module](https://pytorch.org/docs/stable/generated/torch.nn.Module.html). The code block below contains a skeleton for such a wrapper. Now,\n",
        "\n",
        "* Initialize the two weight matrices of word2vec as fields of the class.\n",
        "\n",
        "* Override the ```forward``` method of this class. It should take a one-hot encoding as input, perform the matrix multiplications, and finally apply a log softmax on the output layer.\n",
        "\n",
        "* Initialize the model and save its weights in a variable. The Pytorch documentation will tell you how to do that."
      ]
    },
    {
      "cell_type": "code",
      "metadata": {
        "id": "bsSqOoGGVDxu"
      },
      "source": [
        "#Create Model\n",
        "\n",
        "class Word2Vec(nn.Module):\n",
        "  def __init__(self):\n",
        "    super(Word2Vec, self).__init__()\n",
        "    # Hidden layer\n",
        "    self.l1 = nn.Linear(len(V), embedding_size)\n",
        "    # Output layer\n",
        "    self.l2 = nn.Linear(embedding_size, len(V))\n",
        "\n",
        "  def forward(self, one_hot):\n",
        "    Z1 = self.l1(one_hot)\n",
        "    out = self.l2(Z1)\n",
        "    return out\n",
        "    #return F.log_softmax(out, dim=0) - we don't need this line because nn.crossentropy() combine nlllLoss and softmax\n"
      ],
      "execution_count": 11,
      "outputs": []
    },
    {
      "cell_type": "markdown",
      "metadata": {
        "id": "XefIDMMHv5zJ"
      },
      "source": [
        "# 1.8 Loss function and optimizer (0.5 points)\n",
        "\n",
        "Initialize variables with [optimizer](https://pytorch.org/docs/stable/optim.html#module-torch.optim) and loss function. You can take what is used in the word2vec paper, but you can use alternative optimizers/loss functions if you explain your choice in the report."
      ]
    },
    {
      "cell_type": "code",
      "metadata": {
        "id": "V9-Ino-e29w3"
      },
      "source": [
        "# Define optimizer and loss\n",
        "model = Word2Vec()\n",
        "optimizer = torch.optim.Adam(model.parameters(), lr=learning_rate,)\n",
        "loss_func = nn.CrossEntropyLoss()\n",
        "model = model.to(device=device)\n",
        "\n",
        "#we don't really need to initialize weights because it will be done automatically with Pytorch\n",
        "#but we are following the instructions\n",
        "nn.init.uniform_(model.l1.weight, -.5,.5) #initialize our weights to small values between -.5 and .5 \n",
        "nn.init.uniform_(model.l2.weight, -.5,.5)\n",
        "\n",
        "w1 = model.l1.weight\n",
        "w2 = model.l2.weight"
      ],
      "execution_count": 12,
      "outputs": []
    },
    {
      "cell_type": "markdown",
      "metadata": {
        "id": "ckTfK78Ew8wI"
      },
      "source": [
        "# 1.9 Training the model (3 points)\n",
        "\n",
        "As everything is prepared, implement a training loop that performs several passes of the data set through the model. You are free to do this as you please, but your code should:\n",
        "\n",
        "* Load the weights saved in 1.6 at the start of every execution of the code block\n",
        "* Print the accumulated loss at least after every epoch (the accumulate loss should be reset after every epoch)\n",
        "* Define a criterion for the training procedure to terminate if a certain loss value is reached. You can find the threshold by observing the loss for the development set.\n",
        "\n",
        "You can play around with the number of epochs and the learning rate."
      ]
    },
    {
      "cell_type": "code",
      "metadata": {
        "id": "1cDXH3tr8bom",
        "colab": {
          "base_uri": "https://localhost:8080/"
        },
        "outputId": "9dc95900-f263-4f54-b8f1-1883d4a954dc"
      },
      "source": [
        "#iterate through every sentence and create a list \n",
        "#of target,context pairs stored in variable 'pairs'\n",
        "train_set = development['text'].str.split(',')\n",
        "train_set = train_set.to_list()\n",
        "print(\"sentences :\",len(train_set))\n",
        "train_set = [''.join(x) for x in train_set]\n",
        "print('train set created')\n",
        "pairs = []\n",
        "for sentence in train_set:\n",
        "  p = get_target_context(sentence)\n",
        "  pairs += p\n",
        "\n",
        "print('pairs formed')\n",
        "#removing an extra pair of braces in this line\n",
        "flattened = [val for sublist in pairs for val in sublist]\n"
      ],
      "execution_count": 13,
      "outputs": [
        {
          "output_type": "stream",
          "text": [
            "sentences : 100\n",
            "train set created\n",
            "pairs formed\n"
          ],
          "name": "stdout"
        }
      ]
    },
    {
      "cell_type": "code",
      "metadata": {
        "id": "r-xsbxIPsM3O"
      },
      "source": [
        "from torch.utils.data import Dataset, DataLoader\n",
        "#create our dataloader to iterate thorugh our pairs\n",
        "dataloader = DataLoader(\n",
        "    flattened, \n",
        "    batch_size=batch_size)\n",
        "\n",
        "def train():\n",
        "  threshold = .115 #stopping criterion\n",
        "  prev_loss = 0\n",
        "  for epoch in range(epochs):\n",
        "    total_loss = 0\n",
        "    for i,(targets, contexts)in enumerate(dataloader): #returns a list of word,context pairs in string format of length batch\n",
        "        #convert target/center words to one hot encodings\n",
        "        word = torch.FloatTensor([word_to_one_hot(x) for x in targets])\n",
        "        output = model(word.to(device=device))\n",
        "        #convert context to appropriate format since loss function implicitly will create\n",
        "        #one hot encodings from class values. \n",
        "        context = torch.tensor([word2idx[w] for w in contexts], dtype=torch.long)\n",
        "        context = context.to(device=device)\n",
        "        #print(context.shape)\n",
        "        loss = loss_func(output, context)\n",
        "\n",
        "        # Backprop to update model parameters \n",
        "        total_loss += loss\n",
        "        optimizer.zero_grad()\n",
        "        loss.backward()\n",
        "        optimizer.step()\n",
        "    print(\"Total loss at epoch: \",epoch+1, \"loss: \", total_loss/(len(dataloader)), \"loss comparison: \",abs(prev_loss-total_loss/(len(dataloader))))\n",
        "    if abs(prev_loss-total_loss/(len(dataloader))) <= threshold:\n",
        "      break\n",
        "    prev_loss = total_loss/(len(dataloader))\n",
        "  print(\"Training finished\")\n",
        "\n",
        "\n",
        "\n"
      ],
      "execution_count": 15,
      "outputs": []
    },
    {
      "cell_type": "code",
      "metadata": {
        "id": "l7q_p9QuofVH",
        "colab": {
          "base_uri": "https://localhost:8080/"
        },
        "outputId": "6145e1d8-4671-440b-f86c-96c1fd089d6a"
      },
      "source": [
        "train()\n",
        "w1 = model.l1.weight\n",
        "print(w1.shape)"
      ],
      "execution_count": 16,
      "outputs": [
        {
          "output_type": "stream",
          "text": [
            "Total loss at epoch:  1 loss:  tensor(7.9382, device='cuda:0', grad_fn=<DivBackward0>) loss comparison:  tensor(7.9382, device='cuda:0', grad_fn=<AbsBackward>)\n",
            "Total loss at epoch:  2 loss:  tensor(6.5391, device='cuda:0', grad_fn=<DivBackward0>) loss comparison:  tensor(1.3991, device='cuda:0', grad_fn=<AbsBackward>)\n",
            "Total loss at epoch:  3 loss:  tensor(5.3043, device='cuda:0', grad_fn=<DivBackward0>) loss comparison:  tensor(1.2349, device='cuda:0', grad_fn=<AbsBackward>)\n",
            "Total loss at epoch:  4 loss:  tensor(4.2876, device='cuda:0', grad_fn=<DivBackward0>) loss comparison:  tensor(1.0167, device='cuda:0', grad_fn=<AbsBackward>)\n",
            "Total loss at epoch:  5 loss:  tensor(3.5559, device='cuda:0', grad_fn=<DivBackward0>) loss comparison:  tensor(0.7317, device='cuda:0', grad_fn=<AbsBackward>)\n",
            "Total loss at epoch:  6 loss:  tensor(3.1364, device='cuda:0', grad_fn=<DivBackward0>) loss comparison:  tensor(0.4195, device='cuda:0', grad_fn=<AbsBackward>)\n",
            "Total loss at epoch:  7 loss:  tensor(2.9594, device='cuda:0', grad_fn=<DivBackward0>) loss comparison:  tensor(0.1770, device='cuda:0', grad_fn=<AbsBackward>)\n",
            "Total loss at epoch:  8 loss:  tensor(2.9094, device='cuda:0', grad_fn=<DivBackward0>) loss comparison:  tensor(0.0500, device='cuda:0', grad_fn=<AbsBackward>)\n",
            "Training finished\n",
            "torch.Size([300, 1110])\n"
          ],
          "name": "stdout"
        }
      ]
    },
    {
      "cell_type": "markdown",
      "metadata": {
        "id": "BgQkaYstyj0Q"
      },
      "source": [
        "# 1.10 Train on the full dataset (0.5 points)\n",
        "\n",
        "Now, go back to 1.1 and remove the restriction on the number of sentences in your corpus. Then, reexecute code blocks 1.2, 1.3 and 1.6 (or those relevant if you created additional ones). \n",
        "\n",
        "* Then, retrain your model on the complete dataset.\n",
        "\n",
        "* Now, the input weights of the model contain the desired word embeddings! Save them together with the corresponding vocabulary items (Pytorch provides a nice [functionality](https://pytorch.org/tutorials/beginner/saving_loading_models.html) for this)."
      ]
    },
    {
      "cell_type": "code",
      "metadata": {
        "id": "4x8hQP_bg4_g",
        "colab": {
          "base_uri": "https://localhost:8080/"
        },
        "outputId": "6a33f2c7-d95b-43fb-bf37-e80f5fe9ca69"
      },
      "source": [
        "#Saving Model\n",
        "\n",
        "#from google.colab import drive\n",
        "#drive.mount('/content/gdrive')\n",
        "model_save_name = 'classifier.pth'\n",
        "#path = F\"/content/gdrive/My Drive/{model_save_name}\" \n",
        "#torch.save(model.state_dict(), path)\n",
        "\n",
        "torch.save(model.state_dict(), 'checkpoint.pth') #saving weights\n",
        "state_dict = torch.load('checkpoint.pth')\n",
        "print(state_dict.keys())\n",
        "print(state_dict['l2.weight'].shape)\n",
        "weights = state_dict['l1.weight']\n",
        "\n"
      ],
      "execution_count": 17,
      "outputs": [
        {
          "output_type": "stream",
          "text": [
            "odict_keys(['l1.weight', 'l1.bias', 'l2.weight', 'l2.bias'])\n",
            "torch.Size([1110, 300])\n"
          ],
          "name": "stdout"
        }
      ]
    },
    {
      "cell_type": "code",
      "metadata": {
        "id": "8YtKSWqlCIXv"
      },
      "source": [
        "#create dictionary mapping vocab words to tensors\n",
        "weights = torch.transpose(weights,0,1)\n",
        "vectors = {}\n",
        "w = weights.cpu()\n",
        "for i in range(len(V)):\n",
        "  vectors[V[i]] = w[i].numpy()\n"
      ],
      "execution_count": 18,
      "outputs": []
    },
    {
      "cell_type": "code",
      "metadata": {
        "id": "5wMdpgtjavIw"
      },
      "source": [
        "#Write these dictionary to text file in the format:\n",
        "# word tensorval1 tensorval2 ....tensorval2\n",
        "from itertools import chain\n",
        "import io\n",
        "with open(r'C:\\Users\\kusha\\Desktop\\BasicEmbeddings.txt', 'w', encoding=\"utf-8\") as f:\n",
        "  f.write(\"\\n\".join(\" \".join(chain([key],[str(number) for number in value])) for key,value in vectors.items()))  \n",
        "f.close()   "
      ],
      "execution_count": 19,
      "outputs": []
    },
    {
      "cell_type": "code",
      "metadata": {
        "id": "2D54j8H30HBN",
        "colab": {
          "base_uri": "https://localhost:8080/"
        },
        "outputId": "5f250100-c309-4fd2-a487-7ae927f1600e"
      },
      "source": [
        "!nvidia-smi"
      ],
      "execution_count": 20,
      "outputs": [
        {
          "output_type": "stream",
          "text": [
            "Tue Mar 30 18:28:12 2021       \n",
            "+-----------------------------------------------------------------------------+\n",
            "| NVIDIA-SMI 460.67       Driver Version: 460.32.03    CUDA Version: 11.2     |\n",
            "|-------------------------------+----------------------+----------------------+\n",
            "| GPU  Name        Persistence-M| Bus-Id        Disp.A | Volatile Uncorr. ECC |\n",
            "| Fan  Temp  Perf  Pwr:Usage/Cap|         Memory-Usage | GPU-Util  Compute M. |\n",
            "|                               |                      |               MIG M. |\n",
            "|===============================+======================+======================|\n",
            "|   0  Tesla T4            Off  | 00000000:00:04.0 Off |                    0 |\n",
            "| N/A   44C    P0    28W /  70W |   1076MiB / 15109MiB |      0%      Default |\n",
            "|                               |                      |                  N/A |\n",
            "+-------------------------------+----------------------+----------------------+\n",
            "                                                                               \n",
            "+-----------------------------------------------------------------------------+\n",
            "| Processes:                                                                  |\n",
            "|  GPU   GI   CI        PID   Type   Process name                  GPU Memory |\n",
            "|        ID   ID                                                   Usage      |\n",
            "|=============================================================================|\n",
            "+-----------------------------------------------------------------------------+\n"
          ],
          "name": "stdout"
        }
      ]
    },
    {
      "cell_type": "code",
      "metadata": {
        "id": "Whut5f3B0qCg",
        "colab": {
          "base_uri": "https://localhost:8080/",
          "height": 35
        },
        "outputId": "c4541f9d-0de4-4084-8d41-79807c772863"
      },
      "source": [
        "torch.cuda.get_device_name()"
      ],
      "execution_count": 21,
      "outputs": [
        {
          "output_type": "execute_result",
          "data": {
            "application/vnd.google.colaboratory.intrinsic+json": {
              "type": "string"
            },
            "text/plain": [
              "'Tesla T4'"
            ]
          },
          "metadata": {
            "tags": []
          },
          "execution_count": 21
        }
      ]
    }
  ]
}